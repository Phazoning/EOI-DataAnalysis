{
 "cells": [
  {
   "cell_type": "markdown",
   "id": "89ea14cb",
   "metadata": {},
   "source": [
    "![penguins](https://raw.githubusercontent.com/allisonhorst/palmerpenguins/master/man/figures/lter_penguins.png)"
   ]
  },
  {
   "cell_type": "markdown",
   "id": "9b3104df",
   "metadata": {},
   "source": [
    "https://github.com/allisonhorst/palmerpenguins"
   ]
  },
  {
   "cell_type": "code",
   "execution_count": null,
   "id": "4e5baa53",
   "metadata": {},
   "outputs": [],
   "source": [
    "import pandas as pd\n",
    "import numpy as np\n",
    "import seaborn as sns\n",
    "import matplotlib.pyplot as plt\n",
    "\n",
    "penguins = pd.read_csv(\"penguins.csv\")\n",
    "\n",
    "penguins.head()"
   ]
  },
  {
   "cell_type": "markdown",
   "id": "590fb386",
   "metadata": {},
   "source": [
    "\n",
    "    "
   ]
  },
  {
   "cell_type": "markdown",
   "id": "d3a6f60b",
   "metadata": {},
   "source": [
    "To check column datatypes"
   ]
  },
  {
   "cell_type": "code",
   "execution_count": null,
   "id": "e27027ec",
   "metadata": {},
   "outputs": [],
   "source": [
    "print(penguins[e].dtype for e in penguins.columns)"
   ]
  },
  {
   "cell_type": "markdown",
   "id": "a43fb5ac",
   "metadata": {},
   "source": [
    "To summarize: \n",
    "\n",
    "species - cualitative\n",
    "island - cualitative\n",
    "bill_length_mm - real cuantitative\n",
    "bill_depth_mm - real cuantitative\n",
    "flipper_length_mm - real cuantitative\n",
    "body_mass_g - real cuantitative\n",
    "sex - cualitative"
   ]
  },
  {
   "cell_type": "markdown",
   "id": "b930abe6",
   "metadata": {},
   "source": [
    "Class unbalance: \n",
    "\n",
    "We'll turn our attention to cualitative class first"
   ]
  }
 ],
 "metadata": {
  "kernelspec": {
   "display_name": "Python 3 (ipykernel)",
   "language": "python",
   "name": "python3"
  },
  "language_info": {
   "codemirror_mode": {
    "name": "ipython",
    "version": 3
   },
   "file_extension": ".py",
   "mimetype": "text/x-python",
   "name": "python",
   "nbconvert_exporter": "python",
   "pygments_lexer": "ipython3",
   "version": "3.9.6"
  }
 },
 "nbformat": 4,
 "nbformat_minor": 5
}
